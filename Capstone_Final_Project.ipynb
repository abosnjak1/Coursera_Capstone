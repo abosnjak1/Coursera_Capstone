{
 "cells": [
  {
   "cell_type": "markdown",
   "metadata": {},
   "source": [
    "# Capstone Final Project"
   ]
  },
  {
   "cell_type": "markdown",
   "metadata": {},
   "source": [
    "### This notebook will be mainly used for the Capstone Project"
   ]
  },
  {
   "cell_type": "code",
   "execution_count": 6,
   "metadata": {},
   "outputs": [
    {
     "name": "stdout",
     "output_type": "stream",
     "text": [
      "Modules are imported\n"
     ]
    }
   ],
   "source": [
    "# importing libraries\n",
    "import numpy as np\n",
    "import pandas as pd\n",
    "print(\"Modules are imported\")"
   ]
  },
  {
   "cell_type": "code",
   "execution_count": 3,
   "metadata": {},
   "outputs": [
    {
     "name": "stdout",
     "output_type": "stream",
     "text": [
      "Hello Capstone Project Course!\n"
     ]
    }
   ],
   "source": [
    "print(\"Hello Capstone Project Course!\")"
   ]
  },
  {
   "cell_type": "markdown",
   "metadata": {},
   "source": [
    "### This is a bonnus. "
   ]
  },
  {
   "cell_type": "markdown",
   "metadata": {},
   "source": [
    "## 1) Brief description of the data set and a summary of its attributes. Data on COVID-19 (coronavirus) by Our World in Data\n",
    "### Downloaded from https://ourworldindata.org/coronavirus-source-data . Our complete COVID-19 dataset is a collection of the COVID-19 data maintained by Our World in Data. It is updated daily and includes data on confirmed cases, deaths, hospitalizations, and testing, as well as other variables of potential interest.\n",
    "#### I downloaded all Data Set of COVID-19 from this link: https://ourworldindata.org/coronavirus-source-data"
   ]
  },
  {
   "cell_type": "markdown",
   "metadata": {},
   "source": [
    "- Total confirmed cases: https://covid.ourworldindata.org/data/ecdc/total_cases.csv\n",
    "- Total deaths: https://covid.ourworldindata.org/data/ecdc/total_deaths.csv\n",
    "- New confirmed cases: https://covid.ourworldindata.org/data/ecdc/new_cases.csv\n",
    "- New deaths: https://covid.ourworldindata.org/data/ecdc/new_deaths.csv\n",
    "- All four metrics: https://covid.ourworldindata.org/data/ecdc/full_data.csv\n",
    "- Population data: https://covid.ourworldindata.org/data/ecdc/locations.csv"
   ]
  },
  {
   "cell_type": "markdown",
   "metadata": {},
   "source": [
    "### Research made by Antonio BOSNJAK"
   ]
  }
 ],
 "metadata": {
  "kernelspec": {
   "display_name": "Python 3",
   "language": "python",
   "name": "python3"
  },
  "language_info": {
   "codemirror_mode": {
    "name": "ipython",
    "version": 3
   },
   "file_extension": ".py",
   "mimetype": "text/x-python",
   "name": "python",
   "nbconvert_exporter": "python",
   "pygments_lexer": "ipython3",
   "version": "3.7.6"
  }
 },
 "nbformat": 4,
 "nbformat_minor": 4
}
